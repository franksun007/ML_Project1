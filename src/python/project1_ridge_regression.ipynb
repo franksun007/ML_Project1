{
 "cells": [
  {
   "cell_type": "code",
   "execution_count": 1,
   "metadata": {
    "collapsed": true
   },
   "outputs": [],
   "source": [
    "# Useful starting lines\n",
    "%matplotlib inline\n",
    "import numpy as np\n",
    "import matplotlib.pyplot as plt\n",
    "%load_ext autoreload\n",
    "%autoreload 2"
   ]
  },
  {
   "cell_type": "markdown",
   "metadata": {},
   "source": [
    "## Load the training data into feature matrix, class labels, and event ids:"
   ]
  },
  {
   "cell_type": "code",
   "execution_count": 2,
   "metadata": {
    "collapsed": false
   },
   "outputs": [],
   "source": [
    "from proj1_helpers import *\n",
    "DATA_TRAIN_PATH = '../../data/train.csv' # TODO: download train data and supply path here \n",
    "y, tX, ids = load_csv_data(DATA_TRAIN_PATH)"
   ]
  },
  {
   "cell_type": "markdown",
   "metadata": {},
   "source": [
    "## Do your thing crazy machine learning thing here :) ..."
   ]
  },
  {
   "cell_type": "code",
   "execution_count": 3,
   "metadata": {
    "collapsed": true
   },
   "outputs": [],
   "source": [
    "from costs import *\n",
    "from proj1_helpers import *\n",
    "from franksun_function import *\n",
    "from helpers import *"
   ]
  },
  {
   "cell_type": "code",
   "execution_count": 4,
   "metadata": {
    "collapsed": true
   },
   "outputs": [],
   "source": [
    "def build_poly(x, degree):\n",
    "    poly_row = lambda x: [x**j for j in range(degree + 1)]\n",
    "    return np.array([poly_row(e) for e in x])"
   ]
  },
  {
   "cell_type": "code",
   "execution_count": 26,
   "metadata": {
    "collapsed": false
   },
   "outputs": [],
   "source": [
    "def standardize(x, y):\n",
    "    cols = [4, 5, 6, 12, 26, 27, 28]\n",
    "    \n",
    "    # Get the column where the above columns are not -999\n",
    "    index = []\n",
    "    for i in range(len(x)):\n",
    "        for col in cols:\n",
    "            if x[i][col] != -999:\n",
    "                index.append(i)\n",
    "                break\n",
    "    \n",
    "    # Get rid of those columns\n",
    "    std_tX = np.delete(x, index, axis=0)\n",
    "    std_y = np.delete(y, index)\n",
    "    return std_tX, std_y\n",
    "    \n",
    "    \n",
    "    \n",
    "    "
   ]
  },
  {
   "cell_type": "code",
   "execution_count": 28,
   "metadata": {
    "collapsed": false
   },
   "outputs": [
    {
     "name": "stdout",
     "output_type": "stream",
     "text": [
      "finished standardization\n",
      "Lamda:  0.0001  Performance:  0.65056\n",
      "Lamda:  0.000206913808111  Performance:  0.69318\n",
      "Lamda:  0.000428133239872  Performance:  0.673088\n",
      "Lamda:  0.00088586679041  Performance:  0.666032\n",
      "Lamda:  0.00183298071083  Performance:  0.6690240000000001\n",
      "Lamda:  0.00379269019073  Performance:  0.677952\n",
      "Lamda:  0.00784759970351  Performance:  0.6780999999999999\n",
      "Lamda:  0.0162377673919  Performance:  0.67874\n",
      "Lamda:  0.0335981828628  Performance:  0.6785479999999999\n",
      "Lamda:  0.0695192796178  Performance:  0.678592\n",
      "Lamda:  0.143844988829  Performance:  0.6785840000000001\n",
      "Lamda:  0.297635144163  Performance:  0.6785760000000001\n",
      "Lamda:  0.615848211066  Performance:  0.678572\n",
      "Lamda:  1.2742749857  Performance:  0.678572\n",
      "Lamda:  2.63665089873  Performance:  0.6785760000000001\n",
      "Lamda:  5.45559478117  Performance:  0.6785760000000001\n",
      "Lamda:  11.2883789168  Performance:  0.67858\n",
      "Lamda:  23.3572146909  Performance:  0.6785760000000001\n",
      "Lamda:  48.3293023857  Performance:  0.6785840000000001\n",
      "Lamda:  100.0  Performance:  0.6785840000000001\n"
     ]
    }
   ],
   "source": [
    "std_tX, std_y = standardize(tX, y)\n",
    "print(\"finished standardization\")\n",
    "\n",
    "\n",
    "lambdas = np.logspace(-4, 2, 20)\n",
    "\n",
    "for lambda_ in lambdas:\n",
    "#     print(std_tX.shape)\n",
    "#     print(std_y.shape)\n",
    "    weights = ridge_regression(std_y, std_tX, lambda_)\n",
    "    print(\"Lamda: \", lambda_, \" Performance: \", performance(weights, y, tX))\n",
    "\n"
   ]
  },
  {
   "cell_type": "markdown",
   "metadata": {},
   "source": [
    "## Generate predictions and save ouput in csv format for submission:"
   ]
  },
  {
   "cell_type": "code",
   "execution_count": 5,
   "metadata": {
    "collapsed": false
   },
   "outputs": [],
   "source": [
    "DATA_TEST_PATH = '../../data/test.csv' # TODO: download train data and supply path here \n",
    "_, tX_test, ids_test = load_csv_data(DATA_TEST_PATH)"
   ]
  },
  {
   "cell_type": "code",
   "execution_count": 9,
   "metadata": {
    "collapsed": false
   },
   "outputs": [],
   "source": [
    "OUTPUT_PATH = '../../data/output.csv' # TODO: fill in desired name of output file for submission\n",
    "y_pred = predict_labels(weights, tX_test)\n",
    "create_csv_submission(ids_test, y_pred, OUTPUT_PATH)"
   ]
  },
  {
   "cell_type": "code",
   "execution_count": null,
   "metadata": {
    "collapsed": true
   },
   "outputs": [],
   "source": []
  }
 ],
 "metadata": {
  "anaconda-cloud": {},
  "kernelspec": {
   "display_name": "Python [Root]",
   "language": "python",
   "name": "Python [Root]"
  },
  "language_info": {
   "codemirror_mode": {
    "name": "ipython",
    "version": 3
   },
   "file_extension": ".py",
   "mimetype": "text/x-python",
   "name": "python",
   "nbconvert_exporter": "python",
   "pygments_lexer": "ipython3",
   "version": "3.5.2"
  }
 },
 "nbformat": 4,
 "nbformat_minor": 0
}
