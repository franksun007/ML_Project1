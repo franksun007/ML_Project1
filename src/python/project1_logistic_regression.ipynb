{
 "cells": [
  {
   "cell_type": "code",
   "execution_count": 2,
   "metadata": {
    "collapsed": false
   },
   "outputs": [],
   "source": [
    "# Useful starting lines\n",
    "%matplotlib inline\n",
    "import numpy as np\n",
    "import matplotlib.pyplot as plt\n",
    "%load_ext autoreload\n",
    "%autoreload 2"
   ]
  },
  {
   "cell_type": "markdown",
   "metadata": {},
   "source": [
    "## Load the training data into feature matrix, class labels, and event ids:"
   ]
  },
  {
   "cell_type": "code",
   "execution_count": 3,
   "metadata": {
    "collapsed": false
   },
   "outputs": [],
   "source": [
    "from proj1_helpers import *\n",
    "DATA_TRAIN_PATH = '../../data/train.csv'\n",
    "y, tX, ids = load_csv_data(DATA_TRAIN_PATH)"
   ]
  },
  {
   "cell_type": "markdown",
   "metadata": {},
   "source": [
    "## Do your thing crazy machine learning thing here :) ..."
   ]
  },
  {
   "cell_type": "code",
   "execution_count": null,
   "metadata": {
    "collapsed": false
   },
   "outputs": [
    {
     "name": "stdout",
     "output_type": "stream",
     "text": [
      "Current iteration=0, the loss=173286.79513998624\n"
     ]
    },
    {
     "name": "stderr",
     "output_type": "stream",
     "text": [
      "/Users/chenfs/Google Drive/EPFL/Courses/PC and ML/ML_course_origin/ML_course/projects/project1/src/python/logistic_regression.py:6: RuntimeWarning: overflow encountered in exp\n",
      "  return 1.0 / (1.0 + np.exp(-t))\n",
      "/Users/chenfs/Google Drive/EPFL/Courses/PC and ML/ML_course_origin/ML_course/projects/project1/src/python/logistic_regression.py:15: RuntimeWarning: divide by zero encountered in log\n",
      "  prediction[i] = np.log(prediction[i]) if y[i] == 1 else np.log(1 - prediction[i])\n",
      "/Users/chenfs/Google Drive/EPFL/Courses/PC and ML/ML_course_origin/ML_course/projects/project1/src/python/logistic_regression.py:45: RuntimeWarning: invalid value encountered in double_scalars\n",
      "  if (loss_prev != 0) and np.abs(loss_prev - loss) < threshold:\n"
     ]
    }
   ],
   "source": [
    "from logistic_regression import *\n",
    "from costs import *\n",
    "\n",
    "# There are two parameters, lambda_ and gamma, where gamma is the step size \n",
    "\n",
    "max_iter = 15000\n",
    "lambdas = np.arange(0.1, 0.4, 0.1)\n",
    "gammas = np.arange(0.01, 0.1, 0.01)\n",
    "\n",
    "# When lambda is 0, reg_logistic_regression is naive non-penalized logistic_regression.\n",
    "\n",
    "struct = dict()\n",
    "for lambda_ in lambdas:\n",
    "    for gamma in gammas:\n",
    "        w = reg_logistic_regression(y, tX, lambda_, gamma, max_iter)\n",
    "        print(\"finished the regression\")\n",
    "        err = compute_loss(y, tX, w)\n",
    "        print(\"finished the error\")\n",
    "        struct[(gamma, lambda_)] = (w, err)\n",
    "        break\n",
    "        \n",
    "for (gamma, lambda_), (w, err) in struct.items():\n",
    "    print(\"Gamma: \", gamma, \" Lamdba: \", lambda_, \" w: \", w, \"error: \", err)\n",
    "        \n",
    "        \n",
    "\n",
    "        \n"
   ]
  },
  {
   "cell_type": "markdown",
   "metadata": {},
   "source": [
    "a\n",
    "## Generate predictions and save ouput in csv format for submission:"
   ]
  },
  {
   "cell_type": "code",
   "execution_count": 10,
   "metadata": {
    "collapsed": false
   },
   "outputs": [],
   "source": [
    "DATA_TEST_PATH = '../../data/test.csv' \n",
    "_, tX_test, ids_test = load_csv_data(DATA_TEST_PATH)"
   ]
  },
  {
   "cell_type": "code",
   "execution_count": 31,
   "metadata": {
    "collapsed": false
   },
   "outputs": [],
   "source": [
    "OUTPUT_PATH = '../../data/output.csv' # TODO: fill in desired name of output file for submission\n",
    "y_pred = predict_labels(weights, tX_test)\n",
    "create_csv_submission(ids_test, y_pred, OUTPUT_PATH)"
   ]
  },
  {
   "cell_type": "code",
   "execution_count": null,
   "metadata": {
    "collapsed": true
   },
   "outputs": [],
   "source": []
  }
 ],
 "metadata": {
  "anaconda-cloud": {},
  "kernelspec": {
   "display_name": "Python [Root]",
   "language": "python",
   "name": "Python [Root]"
  },
  "language_info": {
   "codemirror_mode": {
    "name": "ipython",
    "version": 3
   },
   "file_extension": ".py",
   "mimetype": "text/x-python",
   "name": "python",
   "nbconvert_exporter": "python",
   "pygments_lexer": "ipython3",
   "version": "3.5.2"
  }
 },
 "nbformat": 4,
 "nbformat_minor": 0
}
